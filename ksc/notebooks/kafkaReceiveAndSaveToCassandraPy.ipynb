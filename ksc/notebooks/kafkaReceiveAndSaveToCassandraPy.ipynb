{
 "metadata": {
  "kernelspec": {
   "display_name": "Python 2",
   "language": "python",
   "name": "python2"
  },
  "language_info": {
   "codemirror_mode": {
    "name": "ipython",
    "version": 2
   },
   "file_extension": ".py",
   "mimetype": "text/x-python",
   "name": "python",
   "nbconvert_exporter": "python",
   "pygments_lexer": "ipython2",
   "version": "2.7.11"
  },
  "name": "",
  "signature": "sha256:35db4dbdb7b88505bfdb5953394b70fbac069c2ca73815dae3744158fab315a2"
 },
 "nbformat": 3,
 "nbformat_minor": 0,
 "worksheets": [
  {
   "cells": [
    {
     "cell_type": "markdown",
     "metadata": {},
     "source": [
      "# kafkaReceiveDataPy\n",
      "This notebook receives data from Kafka on the topic 'test', and stores it in the 'time_test' table of Cassandra (created by cassandra_init.script in startup_script.sh).\n",
      "\n",
      "```\n",
      "CREATE KEYSPACE test_time WITH replication = {'class': 'SimpleStrategy', 'replication_factor' : 1};\n",
      "\n",
      "CREATE TABLE test_time.sent_received(\n",
      " time_sent TEXT,\n",
      " time_received TEXT,\n",
      "PRIMARY KEY (time_sent)\n",
      ");\n",
      "```\n",
      "\n",
      "A message that gives the current time is received every second. "
     ]
    },
    {
     "cell_type": "heading",
     "level": 2,
     "metadata": {},
     "source": [
      "Add dependencies"
     ]
    },
    {
     "cell_type": "code",
     "collapsed": true,
     "input": [
      "import os\n",
      "os.environ['PYSPARK_SUBMIT_ARGS'] = '--conf spark.ui.port=4040 --packages org.apache.spark:spark-streaming-kafka-0-8_2.11:2.0.0,com.datastax.spark:spark-cassandra-connector_2.11:2.0.0-M3 pyspark-shell'\n",
      "import time"
     ],
     "language": "python",
     "metadata": {},
     "outputs": [],
     "prompt_number": null
    },
    {
     "cell_type": "markdown",
     "metadata": {},
     "source": [
      "## Load modules and start SparkContext\n",
      "Note that SparkContext must be started to effectively load the package dependencies. Two cores are used, since one is needed for running the Kafka receiver."
     ]
    },
    {
     "cell_type": "code",
     "collapsed": false,
     "input": [
      "from pyspark import SparkContext, SparkConf\n",
      "from pyspark.sql import SQLContext, Row\n",
      "conf = SparkConf() \\\n",
      "    .setAppName(\"Streaming test\") \\\n",
      "    .setMaster(\"local[2]\") \\\n",
      "    .set(\"spark.cassandra.connection.host\", \"127.0.0.1\")\n",
      "sc = SparkContext(conf=conf) \n",
      "sqlContext=SQLContext(sc)\n",
      "from pyspark.streaming import StreamingContext\n",
      "from pyspark.streaming.kafka import KafkaUtils"
     ],
     "language": "python",
     "metadata": {},
     "outputs": [],
     "prompt_number": null
    },
    {
     "cell_type": "markdown",
     "metadata": {},
     "source": [
      "## SaveToCassandra function\n",
      "Takes a list of tuple (rows) and save to Cassandra "
     ]
    },
    {
     "cell_type": "code",
     "collapsed": true,
     "input": [
      "def saveToCassandra(rows):\n",
      "    if not rows.isEmpty(): \n",
      "        sqlContext.createDataFrame(rows).write\\\n",
      "        .format(\"org.apache.spark.sql.cassandra\")\\\n",
      "        .mode('append')\\\n",
      "        .options(table=\"tweets\", keyspace=\"ddt\")\\\n",
      "        .save()"
     ],
     "language": "python",
     "metadata": {},
     "outputs": [],
     "prompt_number": null
    },
    {
     "cell_type": "markdown",
     "metadata": {
      "collapsed": false
     },
     "source": [
      "## Create streaming task\n",
      "* Receive data from Kafka 'test' topic every five seconds\n",
      "* Get stream content, and add receiving time to each message\n",
      "* Save each RDD in the DStream to Cassandra. Also print on screen"
     ]
    },
    {
     "cell_type": "code",
     "collapsed": false,
     "input": [
      "ssc = StreamingContext(sc, 5)\n",
      "kvs = KafkaUtils.createStream(ssc, \"127.0.0.1:2181\", \"spark-streaming-consumer\", {'test': 1})\n",
      "data = kvs.map(lambda x: x[1])\n",
      "rows= data.map(lambda x:Row(tweet_id=x,text=time.strftime(\"%Y-%m-%d %H:%M:%S\"),created_at=time.strftime(\"%Y-%m-%d %H:%M:%S\"),url=time.strftime(\"%Y-%m-%d %H:%M:%S\")))\n",
      "rows.foreachRDD(saveToCassandra)\n",
      "rows.pprint()"
     ],
     "language": "python",
     "metadata": {},
     "outputs": [],
     "prompt_number": null
    },
    {
     "cell_type": "heading",
     "level": 2,
     "metadata": {},
     "source": [
      "Start streaming"
     ]
    },
    {
     "cell_type": "code",
     "collapsed": false,
     "input": [
      "ssc.start()"
     ],
     "language": "python",
     "metadata": {},
     "outputs": [],
     "prompt_number": null
    },
    {
     "cell_type": "heading",
     "level": 2,
     "metadata": {},
     "source": [
      "Stop streaming"
     ]
    },
    {
     "cell_type": "code",
     "collapsed": false,
     "input": [
      "ssc.stop(stopSparkContext=False,stopGraceFully=True)"
     ],
     "language": "python",
     "metadata": {},
     "outputs": [],
     "prompt_number": null
    },
    {
     "cell_type": "heading",
     "level": 2,
     "metadata": {},
     "source": [
      "Get Cassandra table content"
     ]
    },
    {
     "cell_type": "code",
     "collapsed": false,
     "input": [
      "data=sqlContext.read\\\n",
      "    .format(\"org.apache.spark.sql.cassandra\")\\\n",
      "    .options(table=\"sent_received\", keyspace=\"test_time\")\\\n",
      "    .load()\n",
      "data.show()"
     ],
     "language": "python",
     "metadata": {},
     "outputs": [],
     "prompt_number": null
    },
    {
     "cell_type": "heading",
     "level": 2,
     "metadata": {
      "collapsed": false
     },
     "source": [
      "Get Cassandra table content using SQL"
     ]
    },
    {
     "cell_type": "code",
     "collapsed": false,
     "input": [
      "data.registerTempTable(\"sent_received\");\n",
      "data.printSchema()\n",
      "data=sqlContext.sql(\"select * from sent_received\")\n",
      "data.show()"
     ],
     "language": "python",
     "metadata": {},
     "outputs": [],
     "prompt_number": null
    },
    {
     "cell_type": "code",
     "collapsed": true,
     "input": [],
     "language": "python",
     "metadata": {},
     "outputs": [],
     "prompt_number": null
    }
   ],
   "metadata": {}
  }
 ]
}